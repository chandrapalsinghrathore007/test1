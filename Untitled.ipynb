{
 "cells": [
  {
   "cell_type": "code",
   "execution_count": 12,
   "id": "bebdc568-42a4-401b-9700-8762668dfd28",
   "metadata": {},
   "outputs": [],
   "source": [
    "bac = [1,2,3]\n",
    "type(bac)\n",
    "abc = []"
   ]
  },
  {
   "cell_type": "code",
   "execution_count": 13,
   "id": "e9f3df63-faf2-4ce3-9057-044c255fb787",
   "metadata": {},
   "outputs": [
    {
     "data": {
      "text/plain": [
       "[1, 1, 1, 2, 2, 2, 3, 3, 3]"
      ]
     },
     "execution_count": 13,
     "metadata": {},
     "output_type": "execute_result"
    }
   ],
   "source": [
    "for i in bac:\n",
    "  aa = [i]*3\n",
    "  abc.extend(aa)\n",
    "abc"
   ]
  },
  {
   "cell_type": "code",
   "execution_count": 14,
   "id": "bf684163-08dd-48ea-ac1b-098811cd5bcb",
   "metadata": {},
   "outputs": [
    {
     "data": {
      "text/plain": [
       "50"
      ]
     },
     "execution_count": 14,
     "metadata": {},
     "output_type": "execute_result"
    }
   ],
   "source": [
    "num1 = 20\n",
    "num2 = 30\n",
    "sum = num1+num2\n",
    "sum"
   ]
  },
  {
   "cell_type": "code",
   "execution_count": 17,
   "id": "4ba79d99-5ffa-4cdf-be5c-bf488114730b",
   "metadata": {},
   "outputs": [
    {
     "data": {
      "text/plain": [
       "['ch', 'ndr', 'p', 'l singh r', 'thore']"
      ]
     },
     "execution_count": 17,
     "metadata": {},
     "output_type": "execute_result"
    }
   ],
   "source": [
    "name = \"chandrapal singh rathore\"\n",
    "name = name.split('a')\n",
    "name"
   ]
  },
  {
   "cell_type": "code",
   "execution_count": 18,
   "id": "98594fe7-9ac5-4d95-9c65-2eb39be7ab93",
   "metadata": {},
   "outputs": [
    {
     "name": "stdout",
     "output_type": "stream",
     "text": [
      "<class 'str'>\n",
      "<class 'str'>\n",
      "<class 'str'>\n"
     ]
    }
   ],
   "source": [
    "lst = [\"tiger\", \"cat\", \"lion\"]\n",
    "for i in lst:\n",
    "    print(type(i))"
   ]
  },
  {
   "cell_type": "code",
   "execution_count": 19,
   "id": "b4541b1e-e717-4627-8778-d9aa73850ac7",
   "metadata": {},
   "outputs": [],
   "source": [
    "name.append('jodha')"
   ]
  },
  {
   "cell_type": "code",
   "execution_count": 20,
   "id": "a3ba3829-308b-410e-9030-bac98ea983a8",
   "metadata": {},
   "outputs": [
    {
     "data": {
      "text/plain": [
       "['ch', 'ndr', 'p', 'l singh r', 'thore', 'jodha']"
      ]
     },
     "execution_count": 20,
     "metadata": {},
     "output_type": "execute_result"
    }
   ],
   "source": [
    "name"
   ]
  },
  {
   "cell_type": "code",
   "execution_count": null,
   "id": "9e51b713-0de7-4e2e-a41c-100c489d9cdc",
   "metadata": {},
   "outputs": [],
   "source": []
  }
 ],
 "metadata": {
  "kernelspec": {
   "display_name": "Python 3 (ipykernel)",
   "language": "python",
   "name": "python3"
  },
  "language_info": {
   "codemirror_mode": {
    "name": "ipython",
    "version": 3
   },
   "file_extension": ".py",
   "mimetype": "text/x-python",
   "name": "python",
   "nbconvert_exporter": "python",
   "pygments_lexer": "ipython3",
   "version": "3.11.7"
  }
 },
 "nbformat": 4,
 "nbformat_minor": 5
}
